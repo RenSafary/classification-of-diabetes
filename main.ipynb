{
 "cells": [
  {
   "cell_type": "code",
   "execution_count": 7,
   "metadata": {},
   "outputs": [],
   "source": [
    "import torch\n",
    "import pandas as pd\n",
    "import torch.optim as optim\n",
    "import torch.nn as nn"
   ]
  },
  {
   "cell_type": "code",
   "execution_count": 8,
   "metadata": {},
   "outputs": [],
   "source": [
    "data = pd.read_csv('diabetes.csv')\n",
    "\n",
    "data_np = data.to_numpy()\n",
    "\n",
    "tensor_data = torch.tensor(data_np)\n",
    "\n",
    "rows, cols = tensor_data.size()\n",
    "\n",
    "tensor_data_in = torch.narrow(tensor_data, dim=1, start=0, length=cols-1)\n",
    "\n",
    "tensor_data_out = tensor_data[:, -1].clone()\n",
    "\n",
    "tensor_data_in = tensor_data_in.float()\n",
    "tensor_data_out = tensor_data_out.float()"
   ]
  },
  {
   "cell_type": "code",
   "execution_count": 9,
   "metadata": {},
   "outputs": [],
   "source": [
    "class NeuralNet(nn.Module):\n",
    "    def __init__(self):\n",
    "        super(NeuralNet, self).__init__()\n",
    "        self.layer = nn.Linear(cols-1, 1)\n",
    "\n",
    "    def forward(self, x):\n",
    "        return self.layer(x)"
   ]
  },
  {
   "cell_type": "code",
   "execution_count": 10,
   "metadata": {},
   "outputs": [],
   "source": [
    "model = NeuralNet()\n",
    "\n",
    "criterion = nn.MSELoss()\n",
    "optimizer = optim.SGD(model.parameters(), lr=0.00001)"
   ]
  },
  {
   "cell_type": "code",
   "execution_count": 11,
   "metadata": {},
   "outputs": [
    {
     "name": "stderr",
     "output_type": "stream",
     "text": [
      "c:\\Users\\ilyae\\AppData\\Local\\Programs\\Python\\Python311\\Lib\\site-packages\\torch\\nn\\modules\\loss.py:536: UserWarning: Using a target size (torch.Size([768])) that is different to the input size (torch.Size([768, 1])). This will likely lead to incorrect results due to broadcasting. Please ensure they have the same size.\n",
      "  return F.mse_loss(input, target, reduction=self.reduction)\n"
     ]
    },
    {
     "name": "stdout",
     "output_type": "stream",
     "text": [
      "Epoch: 1000/10000, Loss: 0.714\n",
      "Epoch: 2000/10000, Loss: 0.290\n",
      "Epoch: 3000/10000, Loss: 0.241\n",
      "Epoch: 4000/10000, Loss: 0.234\n",
      "Epoch: 5000/10000, Loss: 0.233\n",
      "Epoch: 6000/10000, Loss: 0.232\n",
      "Epoch: 7000/10000, Loss: 0.232\n",
      "Epoch: 8000/10000, Loss: 0.232\n",
      "Epoch: 9000/10000, Loss: 0.231\n",
      "Epoch: 10000/10000, Loss: 0.231\n"
     ]
    }
   ],
   "source": [
    "epochs = 10000\n",
    "\n",
    "for epoch in range(epochs):\n",
    "    optimizer.zero_grad()\n",
    "    prediction = model(tensor_data_in)\n",
    "    loss = criterion(prediction, tensor_data_out)\n",
    "    loss.backward()\n",
    "    optimizer.step()\n",
    "\n",
    "    if (epoch + 1) % 1000 == 0:\n",
    "        print(f\"Epoch: {epoch + 1}/{epochs}, Loss: {loss.item():.3f}\")"
   ]
  },
  {
   "cell_type": "code",
   "execution_count": 13,
   "metadata": {},
   "outputs": [
    {
     "name": "stdout",
     "output_type": "stream",
     "text": [
      "Prediction: Negative, 35.7%\n"
     ]
    }
   ],
   "source": [
    "# Pregnancies, Glucose, BloodPressure, SkinThickness, Insulin, BMI, Diabetes Pedigree Function, Age\n",
    "\n",
    "input_data = torch.tensor([8,183,64,0,0,23.3,0.672,32]).view(1, -1)\n",
    "input_data = input_data.float()\n",
    "\n",
    "# классификация\n",
    "\n",
    "prediction = model(input_data)\n",
    "predicted = 'Positive' if prediction.item() >= 0.5 else 'Negative'\n",
    "print(f\"Prediction: {predicted}, {prediction.item()*100:.1f}%\")"
   ]
  }
 ],
 "metadata": {
  "kernelspec": {
   "display_name": "Python 3",
   "language": "python",
   "name": "python3"
  },
  "language_info": {
   "codemirror_mode": {
    "name": "ipython",
    "version": 3
   },
   "file_extension": ".py",
   "mimetype": "text/x-python",
   "name": "python",
   "nbconvert_exporter": "python",
   "pygments_lexer": "ipython3",
   "version": "3.11.1"
  }
 },
 "nbformat": 4,
 "nbformat_minor": 2
}
